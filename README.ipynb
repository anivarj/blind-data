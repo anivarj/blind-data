{
 "cells": [
  {
   "cell_type": "markdown",
   "metadata": {},
   "source": [
    "# Getting Started\n",
    "## Description:\n",
    "* This script should take a folder of .tif files and blind the data by creating a unique, 5-letter code for the file name and renaming the files. \n",
    "* This script assumes you have python3 installed. \n",
    "* This script needs the pandas package. If you do not have this package, please install via pip or conda: <br><br>\n",
    "> <code>conda install pandas</code>\n"
   ]
  },
  {
   "cell_type": "markdown",
   "metadata": {},
   "source": [
    "# Script rundown\n",
    "## Import modules"
   ]
  },
  {
   "cell_type": "code",
   "execution_count": 1,
   "metadata": {},
   "outputs": [],
   "source": [
    "import os\n",
    "import pandas as pd\n",
    "from tkinter.filedialog import askdirectory\n",
    "from random import choice\n",
    "from string import ascii_uppercase\n",
    "from shutil import copyfile"
   ]
  },
  {
   "cell_type": "markdown",
   "metadata": {},
   "source": [
    "## Choose your raw data location\n",
    "Can be in individual sub-folders or just copied into one parent folder\n"
   ]
  },
  {
   "cell_type": "code",
   "execution_count": 2,
   "metadata": {},
   "outputs": [],
   "source": [
    "targetWorkspace = askdirectory(initialdir='~/', message='SELECT YOUR DATA LOCATION') "
   ]
  },
  {
   "cell_type": "markdown",
   "metadata": {},
   "source": [
    "## Create the output folder called 'blinded'"
   ]
  },
  {
   "cell_type": "code",
   "execution_count": 3,
   "metadata": {},
   "outputs": [],
   "source": [
    "output = os.path.join(targetWorkspace,'blinded') \n",
    "os.mkdir(output)"
   ]
  },
  {
   "cell_type": "markdown",
   "metadata": {},
   "source": [
    "## Get full paths to original files and make a dataframe"
   ]
  },
  {
   "cell_type": "code",
   "execution_count": 12,
   "metadata": {},
   "outputs": [
    {
     "data": {
      "text/html": [
       "<div>\n",
       "<style scoped>\n",
       "    .dataframe tbody tr th:only-of-type {\n",
       "        vertical-align: middle;\n",
       "    }\n",
       "\n",
       "    .dataframe tbody tr th {\n",
       "        vertical-align: top;\n",
       "    }\n",
       "\n",
       "    .dataframe thead th {\n",
       "        text-align: right;\n",
       "    }\n",
       "</style>\n",
       "<table border=\"1\" class=\"dataframe\">\n",
       "  <thead>\n",
       "    <tr style=\"text-align: right;\">\n",
       "      <th></th>\n",
       "      <th>Original Paths</th>\n",
       "      <th>Original Names</th>\n",
       "    </tr>\n",
       "  </thead>\n",
       "  <tbody>\n",
       "    <tr>\n",
       "      <th>0</th>\n",
       "      <td>/Users/animichaud/Documents/GitHub/Ani/blind-data/test-data/mri-stack.tif</td>\n",
       "      <td>mri-stack.tif</td>\n",
       "    </tr>\n",
       "    <tr>\n",
       "      <th>1</th>\n",
       "      <td>/Users/animichaud/Documents/GitHub/Ani/blind-data/test-data/flybrain.tif</td>\n",
       "      <td>flybrain.tif</td>\n",
       "    </tr>\n",
       "    <tr>\n",
       "      <th>2</th>\n",
       "      <td>/Users/animichaud/Documents/GitHub/Ani/blind-data/test-data/blobs.tif</td>\n",
       "      <td>blobs.tif</td>\n",
       "    </tr>\n",
       "    <tr>\n",
       "      <th>3</th>\n",
       "      <td>/Users/animichaud/Documents/GitHub/Ani/blind-data/test-data/boats.tif</td>\n",
       "      <td>boats.tif</td>\n",
       "    </tr>\n",
       "    <tr>\n",
       "      <th>4</th>\n",
       "      <td>/Users/animichaud/Documents/GitHub/Ani/blind-data/test-data/clown.tif</td>\n",
       "      <td>clown.tif</td>\n",
       "    </tr>\n",
       "    <tr>\n",
       "      <th>5</th>\n",
       "      <td>/Users/animichaud/Documents/GitHub/Ani/blind-data/test-data/blinded/CROHQ.tif</td>\n",
       "      <td>CROHQ.tif</td>\n",
       "    </tr>\n",
       "    <tr>\n",
       "      <th>6</th>\n",
       "      <td>/Users/animichaud/Documents/GitHub/Ani/blind-data/test-data/blinded/blinded-key.csv</td>\n",
       "      <td>blinded-key.csv</td>\n",
       "    </tr>\n",
       "    <tr>\n",
       "      <th>7</th>\n",
       "      <td>/Users/animichaud/Documents/GitHub/Ani/blind-data/test-data/blinded/NDUUP.tif</td>\n",
       "      <td>NDUUP.tif</td>\n",
       "    </tr>\n",
       "    <tr>\n",
       "      <th>8</th>\n",
       "      <td>/Users/animichaud/Documents/GitHub/Ani/blind-data/test-data/blinded/FZHLF.tif</td>\n",
       "      <td>FZHLF.tif</td>\n",
       "    </tr>\n",
       "    <tr>\n",
       "      <th>9</th>\n",
       "      <td>/Users/animichaud/Documents/GitHub/Ani/blind-data/test-data/blinded/VXMSV.tif</td>\n",
       "      <td>VXMSV.tif</td>\n",
       "    </tr>\n",
       "    <tr>\n",
       "      <th>10</th>\n",
       "      <td>/Users/animichaud/Documents/GitHub/Ani/blind-data/test-data/blinded/JOVRH.tif</td>\n",
       "      <td>JOVRH.tif</td>\n",
       "    </tr>\n",
       "  </tbody>\n",
       "</table>\n",
       "</div>"
      ],
      "text/plain": [
       "                                                                         Original Paths  \\\n",
       "0             /Users/animichaud/Documents/GitHub/Ani/blind-data/test-data/mri-stack.tif   \n",
       "1              /Users/animichaud/Documents/GitHub/Ani/blind-data/test-data/flybrain.tif   \n",
       "2                 /Users/animichaud/Documents/GitHub/Ani/blind-data/test-data/blobs.tif   \n",
       "3                 /Users/animichaud/Documents/GitHub/Ani/blind-data/test-data/boats.tif   \n",
       "4                 /Users/animichaud/Documents/GitHub/Ani/blind-data/test-data/clown.tif   \n",
       "5         /Users/animichaud/Documents/GitHub/Ani/blind-data/test-data/blinded/CROHQ.tif   \n",
       "6   /Users/animichaud/Documents/GitHub/Ani/blind-data/test-data/blinded/blinded-key.csv   \n",
       "7         /Users/animichaud/Documents/GitHub/Ani/blind-data/test-data/blinded/NDUUP.tif   \n",
       "8         /Users/animichaud/Documents/GitHub/Ani/blind-data/test-data/blinded/FZHLF.tif   \n",
       "9         /Users/animichaud/Documents/GitHub/Ani/blind-data/test-data/blinded/VXMSV.tif   \n",
       "10        /Users/animichaud/Documents/GitHub/Ani/blind-data/test-data/blinded/JOVRH.tif   \n",
       "\n",
       "     Original Names  \n",
       "0     mri-stack.tif  \n",
       "1      flybrain.tif  \n",
       "2         blobs.tif  \n",
       "3         boats.tif  \n",
       "4         clown.tif  \n",
       "5         CROHQ.tif  \n",
       "6   blinded-key.csv  \n",
       "7         NDUUP.tif  \n",
       "8         FZHLF.tif  \n",
       "9         VXMSV.tif  \n",
       "10        JOVRH.tif  "
      ]
     },
     "metadata": {},
     "output_type": "display_data"
    }
   ],
   "source": [
    "origPaths = [] #future list of paths to all original files\n",
    "filenames = [] #future list of file names\n",
    "\n",
    "#This section gets a list of files inside targetWorkspace and adds the full paths to origPaths list\n",
    "for dirpath, dirnames, files in os.walk(targetWorkspace): #walks through targetWorkspace\n",
    "    files = [f for f in files if not f[0] == '.']         #excludes hidden files in the files list\n",
    "    dirnames = [d for d in dirnames if not d[0] == '.']   #excludes hidden directories in dirnames list\n",
    "    \n",
    "    for file in files:\n",
    "        filenames.append(file)                            #append each file name to the filenames list\n",
    "        origPaths.append(os.path.join(dirpath, file))     #for each file, get the full path to it's location\n",
    "\n",
    "blindedDf = pd.DataFrame(origPaths, columns=[\"Original Paths\"]) #initiate dataFrame with the origPaths list\n",
    "blindedDf['Original Names'] = pd.DataFrame(filenames)           #add the original filenames list as a new col\n",
    "pd.set_option('display.max_colwidth', None)                     #sets to display the full column width\n",
    "\n",
    "display(blindedDf)"
   ]
  },
  {
   "cell_type": "markdown",
   "metadata": {},
   "source": [
    "## Create blinded filenames\n",
    "### Create a 5-letter random code-name for each file"
   ]
  },
  {
   "cell_type": "code",
   "execution_count": 13,
   "metadata": {},
   "outputs": [
    {
     "data": {
      "text/html": [
       "<div>\n",
       "<style scoped>\n",
       "    .dataframe tbody tr th:only-of-type {\n",
       "        vertical-align: middle;\n",
       "    }\n",
       "\n",
       "    .dataframe tbody tr th {\n",
       "        vertical-align: top;\n",
       "    }\n",
       "\n",
       "    .dataframe thead th {\n",
       "        text-align: right;\n",
       "    }\n",
       "</style>\n",
       "<table border=\"1\" class=\"dataframe\">\n",
       "  <thead>\n",
       "    <tr style=\"text-align: right;\">\n",
       "      <th></th>\n",
       "      <th>Original Paths</th>\n",
       "      <th>Original Names</th>\n",
       "      <th>Randomized Paths</th>\n",
       "      <th>Randomized Names</th>\n",
       "    </tr>\n",
       "  </thead>\n",
       "  <tbody>\n",
       "    <tr>\n",
       "      <th>0</th>\n",
       "      <td>/Users/animichaud/Documents/GitHub/Ani/blind-data/test-data/mri-stack.tif</td>\n",
       "      <td>mri-stack.tif</td>\n",
       "      <td>/Users/animichaud/Documents/GitHub/Ani/blind-data/test-data/blinded/FHBSY.tif</td>\n",
       "      <td>FHBSY.tif</td>\n",
       "    </tr>\n",
       "    <tr>\n",
       "      <th>1</th>\n",
       "      <td>/Users/animichaud/Documents/GitHub/Ani/blind-data/test-data/flybrain.tif</td>\n",
       "      <td>flybrain.tif</td>\n",
       "      <td>/Users/animichaud/Documents/GitHub/Ani/blind-data/test-data/blinded/BMQQC.tif</td>\n",
       "      <td>BMQQC.tif</td>\n",
       "    </tr>\n",
       "    <tr>\n",
       "      <th>2</th>\n",
       "      <td>/Users/animichaud/Documents/GitHub/Ani/blind-data/test-data/blobs.tif</td>\n",
       "      <td>blobs.tif</td>\n",
       "      <td>/Users/animichaud/Documents/GitHub/Ani/blind-data/test-data/blinded/ZHYSV.tif</td>\n",
       "      <td>ZHYSV.tif</td>\n",
       "    </tr>\n",
       "    <tr>\n",
       "      <th>3</th>\n",
       "      <td>/Users/animichaud/Documents/GitHub/Ani/blind-data/test-data/boats.tif</td>\n",
       "      <td>boats.tif</td>\n",
       "      <td>/Users/animichaud/Documents/GitHub/Ani/blind-data/test-data/blinded/BRPQW.tif</td>\n",
       "      <td>BRPQW.tif</td>\n",
       "    </tr>\n",
       "    <tr>\n",
       "      <th>4</th>\n",
       "      <td>/Users/animichaud/Documents/GitHub/Ani/blind-data/test-data/clown.tif</td>\n",
       "      <td>clown.tif</td>\n",
       "      <td>/Users/animichaud/Documents/GitHub/Ani/blind-data/test-data/blinded/DTMBF.tif</td>\n",
       "      <td>DTMBF.tif</td>\n",
       "    </tr>\n",
       "    <tr>\n",
       "      <th>5</th>\n",
       "      <td>/Users/animichaud/Documents/GitHub/Ani/blind-data/test-data/blinded/CROHQ.tif</td>\n",
       "      <td>CROHQ.tif</td>\n",
       "      <td>/Users/animichaud/Documents/GitHub/Ani/blind-data/test-data/blinded/AIOKA.tif</td>\n",
       "      <td>AIOKA.tif</td>\n",
       "    </tr>\n",
       "    <tr>\n",
       "      <th>6</th>\n",
       "      <td>/Users/animichaud/Documents/GitHub/Ani/blind-data/test-data/blinded/blinded-key.csv</td>\n",
       "      <td>blinded-key.csv</td>\n",
       "      <td>/Users/animichaud/Documents/GitHub/Ani/blind-data/test-data/blinded/DCGKM.tif</td>\n",
       "      <td>DCGKM.tif</td>\n",
       "    </tr>\n",
       "    <tr>\n",
       "      <th>7</th>\n",
       "      <td>/Users/animichaud/Documents/GitHub/Ani/blind-data/test-data/blinded/NDUUP.tif</td>\n",
       "      <td>NDUUP.tif</td>\n",
       "      <td>/Users/animichaud/Documents/GitHub/Ani/blind-data/test-data/blinded/UIMZD.tif</td>\n",
       "      <td>UIMZD.tif</td>\n",
       "    </tr>\n",
       "    <tr>\n",
       "      <th>8</th>\n",
       "      <td>/Users/animichaud/Documents/GitHub/Ani/blind-data/test-data/blinded/FZHLF.tif</td>\n",
       "      <td>FZHLF.tif</td>\n",
       "      <td>/Users/animichaud/Documents/GitHub/Ani/blind-data/test-data/blinded/PWQEQ.tif</td>\n",
       "      <td>PWQEQ.tif</td>\n",
       "    </tr>\n",
       "    <tr>\n",
       "      <th>9</th>\n",
       "      <td>/Users/animichaud/Documents/GitHub/Ani/blind-data/test-data/blinded/VXMSV.tif</td>\n",
       "      <td>VXMSV.tif</td>\n",
       "      <td>/Users/animichaud/Documents/GitHub/Ani/blind-data/test-data/blinded/JOWSF.tif</td>\n",
       "      <td>JOWSF.tif</td>\n",
       "    </tr>\n",
       "    <tr>\n",
       "      <th>10</th>\n",
       "      <td>/Users/animichaud/Documents/GitHub/Ani/blind-data/test-data/blinded/JOVRH.tif</td>\n",
       "      <td>JOVRH.tif</td>\n",
       "      <td>/Users/animichaud/Documents/GitHub/Ani/blind-data/test-data/blinded/SLVGT.tif</td>\n",
       "      <td>SLVGT.tif</td>\n",
       "    </tr>\n",
       "  </tbody>\n",
       "</table>\n",
       "</div>"
      ],
      "text/plain": [
       "                                                                         Original Paths  \\\n",
       "0             /Users/animichaud/Documents/GitHub/Ani/blind-data/test-data/mri-stack.tif   \n",
       "1              /Users/animichaud/Documents/GitHub/Ani/blind-data/test-data/flybrain.tif   \n",
       "2                 /Users/animichaud/Documents/GitHub/Ani/blind-data/test-data/blobs.tif   \n",
       "3                 /Users/animichaud/Documents/GitHub/Ani/blind-data/test-data/boats.tif   \n",
       "4                 /Users/animichaud/Documents/GitHub/Ani/blind-data/test-data/clown.tif   \n",
       "5         /Users/animichaud/Documents/GitHub/Ani/blind-data/test-data/blinded/CROHQ.tif   \n",
       "6   /Users/animichaud/Documents/GitHub/Ani/blind-data/test-data/blinded/blinded-key.csv   \n",
       "7         /Users/animichaud/Documents/GitHub/Ani/blind-data/test-data/blinded/NDUUP.tif   \n",
       "8         /Users/animichaud/Documents/GitHub/Ani/blind-data/test-data/blinded/FZHLF.tif   \n",
       "9         /Users/animichaud/Documents/GitHub/Ani/blind-data/test-data/blinded/VXMSV.tif   \n",
       "10        /Users/animichaud/Documents/GitHub/Ani/blind-data/test-data/blinded/JOVRH.tif   \n",
       "\n",
       "     Original Names  \\\n",
       "0     mri-stack.tif   \n",
       "1      flybrain.tif   \n",
       "2         blobs.tif   \n",
       "3         boats.tif   \n",
       "4         clown.tif   \n",
       "5         CROHQ.tif   \n",
       "6   blinded-key.csv   \n",
       "7         NDUUP.tif   \n",
       "8         FZHLF.tif   \n",
       "9         VXMSV.tif   \n",
       "10        JOVRH.tif   \n",
       "\n",
       "                                                                 Randomized Paths  \\\n",
       "0   /Users/animichaud/Documents/GitHub/Ani/blind-data/test-data/blinded/FHBSY.tif   \n",
       "1   /Users/animichaud/Documents/GitHub/Ani/blind-data/test-data/blinded/BMQQC.tif   \n",
       "2   /Users/animichaud/Documents/GitHub/Ani/blind-data/test-data/blinded/ZHYSV.tif   \n",
       "3   /Users/animichaud/Documents/GitHub/Ani/blind-data/test-data/blinded/BRPQW.tif   \n",
       "4   /Users/animichaud/Documents/GitHub/Ani/blind-data/test-data/blinded/DTMBF.tif   \n",
       "5   /Users/animichaud/Documents/GitHub/Ani/blind-data/test-data/blinded/AIOKA.tif   \n",
       "6   /Users/animichaud/Documents/GitHub/Ani/blind-data/test-data/blinded/DCGKM.tif   \n",
       "7   /Users/animichaud/Documents/GitHub/Ani/blind-data/test-data/blinded/UIMZD.tif   \n",
       "8   /Users/animichaud/Documents/GitHub/Ani/blind-data/test-data/blinded/PWQEQ.tif   \n",
       "9   /Users/animichaud/Documents/GitHub/Ani/blind-data/test-data/blinded/JOWSF.tif   \n",
       "10  /Users/animichaud/Documents/GitHub/Ani/blind-data/test-data/blinded/SLVGT.tif   \n",
       "\n",
       "   Randomized Names  \n",
       "0         FHBSY.tif  \n",
       "1         BMQQC.tif  \n",
       "2         ZHYSV.tif  \n",
       "3         BRPQW.tif  \n",
       "4         DTMBF.tif  \n",
       "5         AIOKA.tif  \n",
       "6         DCGKM.tif  \n",
       "7         UIMZD.tif  \n",
       "8         PWQEQ.tif  \n",
       "9         JOWSF.tif  \n",
       "10        SLVGT.tif  "
      ]
     },
     "metadata": {},
     "output_type": "display_data"
    }
   ],
   "source": [
    "randomizedPaths = [] #creates empty list for the randomized paths\n",
    "randomizedNames = [] #creates empty list for randomized names\n",
    "\n",
    "for r in range(0, len(blindedDf)):\n",
    "    randomName = ''.join(choice(ascii_uppercase) for i in range(5)) + \".tif\" #creates randomized file name\n",
    "    randomizedPaths.append(os.path.join(output, randomName))                 #makes a full path for the randomized name \n",
    "    randomizedNames.append(randomName)                                       #adds the randomized name to randomNames list\n",
    "\n",
    "blindedDf['Randomized Paths'] = pd.DataFrame(randomizedPaths) #appends the list of randomized paths to the current DataFrame\n",
    "blindedDf['Randomized Names'] = pd.DataFrame(randomizedNames) #adds a new column for the randomized names\n",
    "display(blindedDf)"
   ]
  },
  {
   "cell_type": "markdown",
   "metadata": {},
   "source": [
    "## Blind the data\n",
    "### Copy the original file to the output folder and rename it to the blinded code-name"
   ]
  },
  {
   "cell_type": "code",
   "execution_count": 7,
   "metadata": {},
   "outputs": [],
   "source": [
    "newList = list(zip(blindedDf['Original Paths'], blindedDf['Randomized Paths'])) #zipping the two columns from the dataFrame into a list of tuples \n",
    "\n",
    "#for each tuple pair, copy the original file to the randomized path\n",
    "for orig, randomized in newList:\n",
    "    copyfile(orig, randomized)\n"
   ]
  },
  {
   "cell_type": "markdown",
   "metadata": {},
   "source": [
    "\n",
    "## Export the key"
   ]
  },
  {
   "cell_type": "code",
   "execution_count": 8,
   "metadata": {},
   "outputs": [],
   "source": [
    "csvPath = os.path.join(output, 'blinded-key.csv') #create a path for the exported dataframe\n",
    "blindedDf.to_csv(csvPath, index=False) #export the dataframe as csv\n"
   ]
  }
 ],
 "metadata": {
  "interpreter": {
   "hash": "6aba9a948329f4e20f097961b0287578fd327a17010a94072c29773e0b07b11e"
  },
  "kernelspec": {
   "display_name": "Python 3.8.3 ('base')",
   "language": "python",
   "name": "python3"
  },
  "language_info": {
   "codemirror_mode": {
    "name": "ipython",
    "version": 3
   },
   "file_extension": ".py",
   "mimetype": "text/x-python",
   "name": "python",
   "nbconvert_exporter": "python",
   "pygments_lexer": "ipython3",
   "version": "3.8.3"
  },
  "orig_nbformat": 4
 },
 "nbformat": 4,
 "nbformat_minor": 2
}
