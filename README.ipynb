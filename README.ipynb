{
 "cells": [
  {
   "cell_type": "markdown",
   "metadata": {},
   "source": [
    "# Getting Started\n",
    "## Description:\n",
    "* This script should take a folder of .tif files and blind the data by creating a unique, 5-letter code for the file name and renaming the files. \n",
    "* This script assumes you have python3 installed. \n",
    "* This script needs the pandas package. If you do not have this package, please install via pip or conda: <br><br>\n",
    "> <code>conda install pandas</code><br>\n",
    "**TEST**\n"
   ]
  },
  {
   "cell_type": "markdown",
   "metadata": {},
   "source": [
    "# Script rundown\n",
    "## Import modules"
   ]
  },
  {
   "cell_type": "code",
   "execution_count": 3,
   "metadata": {},
   "outputs": [],
   "source": [
    "import os\n",
    "import pandas as pd\n",
    "from tkinter.filedialog import askdirectory\n",
    "from random import choice\n",
    "from string import ascii_uppercase\n",
    "from shutil import copyfile"
   ]
  },
  {
   "cell_type": "markdown",
   "metadata": {},
   "source": [
    "## Choose your raw data location\n",
    "Can be in individual sub-folders or just copied into one parent folder\n"
   ]
  },
  {
   "cell_type": "code",
   "execution_count": 4,
   "metadata": {},
   "outputs": [],
   "source": [
    "targetWorkspace = askdirectory(initialdir='~/', message='SELECT YOUR DATA LOCATION') "
   ]
  },
  {
   "cell_type": "markdown",
   "metadata": {},
   "source": [
    "## Create the output folder called 'blinded'"
   ]
  },
  {
   "cell_type": "code",
   "execution_count": 6,
   "metadata": {},
   "outputs": [],
   "source": [
    "output = os.path.join(targetWorkspace,'blinded') \n",
    "os.mkdir(output)"
   ]
  },
  {
   "cell_type": "markdown",
   "metadata": {},
   "source": [
    "## Get full paths to original files and make a dataframe"
   ]
  },
  {
   "cell_type": "code",
   "execution_count": 7,
   "metadata": {},
   "outputs": [],
   "source": [
    "origPaths = [] #future list of paths to all original files\n",
    "filenames = [] #future list of file names\n",
    "\n",
    "#This section gets a list of files inside targetWorkspace and adds the full paths to origPaths list\n",
    "for dirpath, dirnames, files in os.walk(targetWorkspace): #walks through targetWorkspace\n",
    "    files = [f for f in files if not f[0] == '.']         #excludes hidden files in the files list\n",
    "    dirnames = [d for d in dirnames if not d[0] == '.']   #excludes hidden directories in dirnames list\n",
    "    \n",
    "    for file in files:\n",
    "        filenames.append(file)                            #append each file name to the filenames list\n",
    "        origPaths.append(os.path.join(dirpath, file))     #for each file, get the full path to it's location\n",
    "\n",
    "blindedDf = pd.DataFrame(origPaths, columns=[\"Original Paths\"]) #initiate dataFrame with the origPaths list\n",
    "blindedDf['Original Names'] = pd.DataFrame(filenames)           #add the original filenames list as a new col\n",
    "pd.set_option('display.max_colwidth', None)                     #sets to display the full column width"
   ]
  },
  {
   "cell_type": "markdown",
   "metadata": {},
   "source": [
    "## Create blinded filenames\n",
    "### Create a 5-letter random code-name for each file"
   ]
  },
  {
   "cell_type": "code",
   "execution_count": 8,
   "metadata": {},
   "outputs": [],
   "source": [
    "randomizedPaths = [] #creates empty list for the randomized paths\n",
    "randomizedNames = [] #creates empty list for randomized names\n",
    "\n",
    "for r in range(0, len(blindedDf)):\n",
    "    randomName = ''.join(choice(ascii_uppercase) for i in range(5)) + \".tif\" #creates randomized file name\n",
    "    randomizedPaths.append(os.path.join(output, randomName))                 #makes a full path for the randomized name \n",
    "    randomizedNames.append(randomName)                                       #adds the randomized name to randomNames list\n",
    "\n",
    "blindedDf['Randomized Paths'] = pd.DataFrame(randomizedPaths) #appends the list of randomized paths to the current DataFrame\n",
    "blindedDf['Randomized Names'] = pd.DataFrame(randomizedNames) #adds a new column for the randomized names"
   ]
  },
  {
   "cell_type": "markdown",
   "metadata": {},
   "source": [
    "## Blind the data\n",
    "### Copy the original file to the output folder and rename it to the blinded code-name"
   ]
  },
  {
   "cell_type": "code",
   "execution_count": 9,
   "metadata": {},
   "outputs": [],
   "source": [
    "newList = list(zip(blindedDf['Original Paths'], blindedDf['Randomized Paths'])) #zipping the two columns from the dataFrame into a list of tuples \n",
    "\n",
    "#for each tuple pair, copy the original file to the randomized path\n",
    "for orig, randomized in newList:\n",
    "    copyfile(orig, randomized)\n"
   ]
  },
  {
   "cell_type": "markdown",
   "metadata": {},
   "source": [
    "\n",
    "## Export the key"
   ]
  },
  {
   "cell_type": "code",
   "execution_count": 10,
   "metadata": {},
   "outputs": [],
   "source": [
    "csvPath = os.path.join(output, 'blinded-key.csv') #create a path for the exported dataframe\n",
    "blindedDf.to_csv(csvPath, index=False) #export the dataframe as csv\n"
   ]
  }
 ],
 "metadata": {
  "interpreter": {
   "hash": "6aba9a948329f4e20f097961b0287578fd327a17010a94072c29773e0b07b11e"
  },
  "kernelspec": {
   "display_name": "Python 3.8.3 ('base')",
   "language": "python",
   "name": "python3"
  },
  "language_info": {
   "codemirror_mode": {
    "name": "ipython",
    "version": 3
   },
   "file_extension": ".py",
   "mimetype": "text/x-python",
   "name": "python",
   "nbconvert_exporter": "python",
   "pygments_lexer": "ipython3",
   "version": "3.8.3"
  },
  "orig_nbformat": 4
 },
 "nbformat": 4,
 "nbformat_minor": 2
}
