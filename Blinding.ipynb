{
 "cells": [
  {
   "cell_type": "markdown",
   "metadata": {},
   "source": [
    "**Author:** Ani Michaud (amichaud3@wisc.edu)\n",
    "<br><br>\n",
    "**Description:** \n",
    "<br>\n",
    "This script should take a folder of .tif files and blind the data by creating a unique, 5-letter code for the file name and renaming the files. This script assumes you have python3 installed. The order of the script is as follows:\n",
    "* Ask the user where their data is stored (targetWorkspace). It can be in individual sub-folders or just copied into one parent folder\n",
    "* Create an output directory called 'blinded'. \n",
    "* Make a list of all the files in the targetWorkspace, and import them into a pandas DataFrame\n",
    "* Create a 5-letter random code-name (ending in .tif) for each file path in the DataFrame\n",
    "* Copies the original file to the output 'blinded' folder and renames it to the blinded code-name\n",
    "* Creates a key .csv file for later unblinding"
   ]
  },
  {
   "cell_type": "markdown",
   "metadata": {},
   "source": [
    "# Import modules and shit"
   ]
  },
  {
   "cell_type": "code",
   "execution_count": 1,
   "metadata": {},
   "outputs": [],
   "source": [
    "import os\n",
    "import pandas as pd\n",
    "from tkinter.filedialog import askdirectory"
   ]
  },
  {
   "cell_type": "code",
   "execution_count": 23,
   "metadata": {},
   "outputs": [],
   "source": [
    "from random import choice\n",
    "from string import ascii_uppercase"
   ]
  },
  {
   "cell_type": "code",
   "execution_count": 28,
   "metadata": {},
   "outputs": [],
   "source": [
    "from shutil import copyfile"
   ]
  },
  {
   "cell_type": "markdown",
   "metadata": {},
   "source": [
    "# Choose your raw data location"
   ]
  },
  {
   "cell_type": "code",
   "execution_count": 2,
   "metadata": {},
   "outputs": [],
   "source": [
    "targetWorkspace = askdirectory(initialdir='~/', message='SELECT YOUR DATA LOCATION') "
   ]
  },
  {
   "cell_type": "markdown",
   "metadata": {},
   "source": [
    "# Create the output folder"
   ]
  },
  {
   "cell_type": "code",
   "execution_count": 4,
   "metadata": {},
   "outputs": [],
   "source": [
    "output = os.path.join(targetWorkspace,'blinded') \n",
    "os.mkdir(output)"
   ]
  },
  {
   "cell_type": "markdown",
   "metadata": {},
   "source": [
    "# Meat and potatoes"
   ]
  },
  {
   "cell_type": "markdown",
   "metadata": {},
   "source": [
    "## Get full paths to original files "
   ]
  },
  {
   "cell_type": "code",
   "execution_count": 5,
   "metadata": {},
   "outputs": [],
   "source": [
    "origPaths = [] # future list of paths to all original files\n",
    "filenames = [] #future list of file names"
   ]
  },
  {
   "cell_type": "code",
   "execution_count": 6,
   "metadata": {},
   "outputs": [],
   "source": [
    "#This section gets a list of files inside targetWorkspace and adds the full paths to origPaths list\n",
    "for dirpath, dirnames, files in os.walk(targetWorkspace): #walks through targetWorkspace\n",
    "    files = [f for f in files if not f[0] == '.']         #excludes hidden files in the files list\n",
    "    dirnames = [d for d in dirnames if not d[0] == '.']   #excludes hidden directories in dirnames list\n",
    "    \n",
    "    for file in files:\n",
    "        filenames.append(file)                            #append each file name to the filenames list\n",
    "        origPaths.append(os.path.join(dirpath, file))     #for each file, get the full path to it's location\n"
   ]
  },
  {
   "cell_type": "markdown",
   "metadata": {},
   "source": [
    "## Create dataframe"
   ]
  },
  {
   "cell_type": "code",
   "execution_count": 22,
   "metadata": {},
   "outputs": [],
   "source": [
    "blindedDf = pd.DataFrame(origPaths, columns=[\"Original Paths\"]) #initiate dataFrame with the origPaths list\n",
    "blindedDf['Original Names'] = pd.DataFrame(filenames)           #add the original filenames list as a new col\n",
    "pd.set_option('display.max_colwidth', None)                     #sets to display the full column width"
   ]
  },
  {
   "cell_type": "markdown",
   "metadata": {},
   "source": [
    "## Create blinded filenames"
   ]
  },
  {
   "cell_type": "code",
   "execution_count": 24,
   "metadata": {},
   "outputs": [],
   "source": [
    "randomizedPaths = [] #creates empty list for the randomized paths\n",
    "randomizedNames = [] #creates empty list for randomized names\n",
    "\n",
    "#This section creates a randomized 5-character filename for every row of the dataFrame and stores it in randomizedPaths\n",
    "for r in range(0, len(blindedDf)):\n",
    "    randomName = ''.join(choice(ascii_uppercase) for i in range(5)) + \".tif\" #creates randomized file name\n",
    "    randomizedPaths.append(os.path.join(output, randomName))                 #makes a full path for the randomized name \n",
    "    randomizedNames.append(randomName)                                       #adds the randomized name to randomNames list"
   ]
  },
  {
   "cell_type": "code",
   "execution_count": 25,
   "metadata": {},
   "outputs": [],
   "source": [
    "blindedDf['Randomized Paths'] = pd.DataFrame(randomizedPaths) #appends the list of randomized paths to the current DataFrame\n",
    "blindedDf['Randomized Names'] = pd.DataFrame(randomizedNames) #adds a new column for the randomized names"
   ]
  },
  {
   "cell_type": "code",
   "execution_count": 26,
   "metadata": {},
   "outputs": [
    {
     "data": {
      "text/html": [
       "<div>\n",
       "<style scoped>\n",
       "    .dataframe tbody tr th:only-of-type {\n",
       "        vertical-align: middle;\n",
       "    }\n",
       "\n",
       "    .dataframe tbody tr th {\n",
       "        vertical-align: top;\n",
       "    }\n",
       "\n",
       "    .dataframe thead th {\n",
       "        text-align: right;\n",
       "    }\n",
       "</style>\n",
       "<table border=\"1\" class=\"dataframe\">\n",
       "  <thead>\n",
       "    <tr style=\"text-align: right;\">\n",
       "      <th></th>\n",
       "      <th>Original Paths</th>\n",
       "      <th>Original Names</th>\n",
       "      <th>Randomized Paths</th>\n",
       "      <th>Randomized Names</th>\n",
       "    </tr>\n",
       "  </thead>\n",
       "  <tbody>\n",
       "    <tr>\n",
       "      <th>0</th>\n",
       "      <td>/Users/animichaud/Desktop/test-data/mri-stack.tif</td>\n",
       "      <td>mri-stack.tif</td>\n",
       "      <td>/Users/animichaud/Desktop/test-data/blinded/LCMDB.tif</td>\n",
       "      <td>LCMDB.tif</td>\n",
       "    </tr>\n",
       "    <tr>\n",
       "      <th>1</th>\n",
       "      <td>/Users/animichaud/Desktop/test-data/flybrain.tif</td>\n",
       "      <td>flybrain.tif</td>\n",
       "      <td>/Users/animichaud/Desktop/test-data/blinded/JQFKQ.tif</td>\n",
       "      <td>JQFKQ.tif</td>\n",
       "    </tr>\n",
       "    <tr>\n",
       "      <th>2</th>\n",
       "      <td>/Users/animichaud/Desktop/test-data/blobs.tif</td>\n",
       "      <td>blobs.tif</td>\n",
       "      <td>/Users/animichaud/Desktop/test-data/blinded/MSEDH.tif</td>\n",
       "      <td>MSEDH.tif</td>\n",
       "    </tr>\n",
       "    <tr>\n",
       "      <th>3</th>\n",
       "      <td>/Users/animichaud/Desktop/test-data/boats.tif</td>\n",
       "      <td>boats.tif</td>\n",
       "      <td>/Users/animichaud/Desktop/test-data/blinded/UKKVT.tif</td>\n",
       "      <td>UKKVT.tif</td>\n",
       "    </tr>\n",
       "    <tr>\n",
       "      <th>4</th>\n",
       "      <td>/Users/animichaud/Desktop/test-data/clown.tif</td>\n",
       "      <td>clown.tif</td>\n",
       "      <td>/Users/animichaud/Desktop/test-data/blinded/QXKOM.tif</td>\n",
       "      <td>QXKOM.tif</td>\n",
       "    </tr>\n",
       "  </tbody>\n",
       "</table>\n",
       "</div>"
      ],
      "text/plain": [
       "                                      Original Paths Original Names  \\\n",
       "0  /Users/animichaud/Desktop/test-data/mri-stack.tif  mri-stack.tif   \n",
       "1   /Users/animichaud/Desktop/test-data/flybrain.tif   flybrain.tif   \n",
       "2      /Users/animichaud/Desktop/test-data/blobs.tif      blobs.tif   \n",
       "3      /Users/animichaud/Desktop/test-data/boats.tif      boats.tif   \n",
       "4      /Users/animichaud/Desktop/test-data/clown.tif      clown.tif   \n",
       "\n",
       "                                        Randomized Paths Randomized Names  \n",
       "0  /Users/animichaud/Desktop/test-data/blinded/LCMDB.tif        LCMDB.tif  \n",
       "1  /Users/animichaud/Desktop/test-data/blinded/JQFKQ.tif        JQFKQ.tif  \n",
       "2  /Users/animichaud/Desktop/test-data/blinded/MSEDH.tif        MSEDH.tif  \n",
       "3  /Users/animichaud/Desktop/test-data/blinded/UKKVT.tif        UKKVT.tif  \n",
       "4  /Users/animichaud/Desktop/test-data/blinded/QXKOM.tif        QXKOM.tif  "
      ]
     },
     "metadata": {},
     "output_type": "display_data"
    }
   ],
   "source": [
    "display(blindedDf) #display the dataFrame"
   ]
  },
  {
   "cell_type": "markdown",
   "metadata": {},
   "source": [
    "## Blind the data"
   ]
  },
  {
   "cell_type": "code",
   "execution_count": 27,
   "metadata": {},
   "outputs": [],
   "source": [
    "newList = list(zip(blindedDf['Original Paths'], blindedDf['Randomized Paths'])) #zipping the two columns from the dataFrame into a list of tuples "
   ]
  },
  {
   "cell_type": "code",
   "execution_count": 29,
   "metadata": {},
   "outputs": [],
   "source": [
    "#for each tuple pair, copy the original file to the randomized path\n",
    "for orig, randomized in newList:\n",
    "    copyfile(orig, randomized)"
   ]
  },
  {
   "cell_type": "markdown",
   "metadata": {},
   "source": [
    "## Export the key"
   ]
  },
  {
   "cell_type": "code",
   "execution_count": 30,
   "metadata": {},
   "outputs": [],
   "source": [
    "csvPath = os.path.join(output, 'blinded-key.csv') #create a path for the exported dataframe"
   ]
  },
  {
   "cell_type": "code",
   "execution_count": 31,
   "metadata": {},
   "outputs": [],
   "source": [
    "blindedDf.to_csv(csvPath, index=False) #export the dataframe as csv"
   ]
  }
 ],
 "metadata": {
  "kernelspec": {
   "display_name": "Python 3",
   "language": "python",
   "name": "python3"
  },
  "language_info": {
   "codemirror_mode": {
    "name": "ipython",
    "version": 3
   },
   "file_extension": ".py",
   "mimetype": "text/x-python",
   "name": "python",
   "nbconvert_exporter": "python",
   "pygments_lexer": "ipython3",
   "version": "3.7.6"
  }
 },
 "nbformat": 4,
 "nbformat_minor": 4
}
