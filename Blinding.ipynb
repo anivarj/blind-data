{
 "cells": [
  {
   "cell_type": "markdown",
   "metadata": {},
   "source": [
    "**Author:** Ani Michaud (amichaud3@wisc.edu)\n",
    "<br><br>\n",
    "**Description:** \n",
    "<br>\n",
    "This script should take a folder of .tif files and blind the data by creating a unique, 5-letter code for the file name and renaming the files. This script assumes you have python3 installed. The order of the script is as follows:\n",
    "* Ask the user where their data is stored (targetWorkspace). It can be in individual sub-folders or just copied into one parent folder\n",
    "* Create an output directory called 'blinded'. \n",
    "* Make a list of all the files in the targetWorkspace, and import them into a pandas DataFrame\n",
    "* Create a 5-letter random code-name (ending in .tif) for each file path in the DataFrame\n",
    "* Copies the original file to the output 'blinded' folder and renames it to the blinded code-name\n",
    "* Creates a key .csv file for later unblinding"
   ]
  },
  {
   "cell_type": "markdown",
   "metadata": {},
   "source": [
    "# Import modules and shit"
   ]
  },
  {
   "cell_type": "code",
   "execution_count": 1,
   "metadata": {},
   "outputs": [],
   "source": [
    "import os\n",
    "import pandas as pd\n",
    "from tkinter.filedialog import askdirectory"
   ]
  },
  {
   "cell_type": "markdown",
   "metadata": {},
   "source": [
    "# Choose your raw data location"
   ]
  },
  {
   "cell_type": "code",
   "execution_count": 2,
   "metadata": {},
   "outputs": [],
   "source": [
    "targetWorkspace = askdirectory(initialdir='~/', message='SELECT YOUR DATA LOCATION') "
   ]
  },
  {
   "cell_type": "markdown",
   "metadata": {},
   "source": [
    "# Create the output folder"
   ]
  },
  {
   "cell_type": "code",
   "execution_count": 3,
   "metadata": {},
   "outputs": [],
   "source": [
    "output = os.path.join(targetWorkspace,'blinded') \n",
    "os.mkdir(output)"
   ]
  },
  {
   "cell_type": "markdown",
   "metadata": {},
   "source": [
    "# Meat and potatoes"
   ]
  },
  {
   "cell_type": "markdown",
   "metadata": {},
   "source": [
    "## Get full paths to original files "
   ]
  },
  {
   "cell_type": "code",
   "execution_count": 4,
   "metadata": {},
   "outputs": [],
   "source": [
    "origPaths = [] # future list of paths to all original files"
   ]
  },
  {
   "cell_type": "code",
   "execution_count": 5,
   "metadata": {},
   "outputs": [],
   "source": [
    "#This section gets a list of files inside targetWorkspace and adds the full paths to origPaths list\n",
    "for dirpath, dirnames, files in os.walk(targetWorkspace): #walks through targetWorkspace\n",
    "    files = [f for f in files if not f[0] == '.']         #excludes hidden files in the files list\n",
    "    dirnames = [d for d in dirnames if not d[0] == '.']   #excludes hidden directories in dirnames list\n",
    "    \n",
    "    for file in files:                                    \n",
    "        origPaths.append(os.path.join(dirpath, file))     #for each file, get the full path to it's location"
   ]
  },
  {
   "cell_type": "markdown",
   "metadata": {},
   "source": [
    "## Create dataframe"
   ]
  },
  {
   "cell_type": "code",
   "execution_count": 6,
   "metadata": {},
   "outputs": [],
   "source": [
    "blindedDf = pd.DataFrame(origPaths, columns=[\"Original Paths\"]) #initiate dataFrame with the origPaths list\n",
    "pd.set_option('display.max_colwidth', None)                     #sets to display the full column width"
   ]
  },
  {
   "cell_type": "markdown",
   "metadata": {},
   "source": [
    "## Create blinded filenames"
   ]
  },
  {
   "cell_type": "code",
   "execution_count": 7,
   "metadata": {},
   "outputs": [],
   "source": [
    "from random import choice\n",
    "from string import ascii_uppercase"
   ]
  },
  {
   "cell_type": "code",
   "execution_count": 8,
   "metadata": {},
   "outputs": [],
   "source": [
    "randomizedPaths = [] #creates empty list for the randomized paths\n",
    "\n",
    "#This section creates a randomized 5-character filename for every row of the dataFrame and stores it in randomizedPaths\n",
    "for r in range(0, len(blindedDf)): \n",
    "    randomizedPaths.append(os.path.join(output, ''.join(choice(ascii_uppercase) for i in range(5)) + \".tif\")) #makes a full path for the randomized name in the output folder"
   ]
  },
  {
   "cell_type": "code",
   "execution_count": 9,
   "metadata": {},
   "outputs": [],
   "source": [
    "blindedDf['Randomized Paths'] = pd.DataFrame(randomizedPaths) #appends the list of randomized paths to the current DataFrame"
   ]
  },
  {
   "cell_type": "markdown",
   "metadata": {},
   "source": [
    "## Blind the data"
   ]
  },
  {
   "cell_type": "code",
   "execution_count": 10,
   "metadata": {},
   "outputs": [],
   "source": [
    "newList = list(zip(blindedDf['Original Paths'], blindedDf['Randomized Paths'])) #zipping the two columns from the dataFrame into a list of tuples "
   ]
  },
  {
   "cell_type": "code",
   "execution_count": 11,
   "metadata": {},
   "outputs": [],
   "source": [
    "from shutil import copyfile"
   ]
  },
  {
   "cell_type": "code",
   "execution_count": 12,
   "metadata": {},
   "outputs": [],
   "source": [
    "#for each tuple pair, copy the original file to the randomized path\n",
    "for orig, randomized in newList:\n",
    "    copyfile(orig, randomized)"
   ]
  },
  {
   "cell_type": "markdown",
   "metadata": {},
   "source": [
    "## Export the key"
   ]
  },
  {
   "cell_type": "code",
   "execution_count": 13,
   "metadata": {},
   "outputs": [],
   "source": [
    "csvPath = os.path.join(output, 'blinded-key.csv') #create a path for the exported dataframe"
   ]
  },
  {
   "cell_type": "code",
   "execution_count": 14,
   "metadata": {},
   "outputs": [],
   "source": [
    "blindedDf.to_csv(csvPath, index=False) #export the dataframe as csv"
   ]
  }
 ],
 "metadata": {
  "kernelspec": {
   "display_name": "Python 3",
   "language": "python",
   "name": "python3"
  },
  "language_info": {
   "codemirror_mode": {
    "name": "ipython",
    "version": 3
   },
   "file_extension": ".py",
   "mimetype": "text/x-python",
   "name": "python",
   "nbconvert_exporter": "python",
   "pygments_lexer": "ipython3",
   "version": "3.7.6"
  }
 },
 "nbformat": 4,
 "nbformat_minor": 4
}
